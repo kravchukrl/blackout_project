{
 "cells": [
  {
   "cell_type": "markdown",
   "id": "7ce3f4b5",
   "metadata": {},
   "source": [
    "Trying to aggregate data in the minutes table and adding it to the hours table"
   ]
  },
  {
   "cell_type": "markdown",
   "id": "5a9506ad",
   "metadata": {},
   "source": [
    "Creating an Hours table"
   ]
  },
  {
   "cell_type": "code",
   "execution_count": 1,
   "id": "f4bc21ca",
   "metadata": {},
   "outputs": [],
   "source": [
    "import boto3\n",
    "\n",
    "dynamodb = boto3.resource('dynamodb')\n",
    "table = dynamodb.create_table(\n",
    "    TableName='trial-blackout-monitor-hours',\n",
    "    KeySchema=[\n",
    "        {\n",
    "            'AttributeName': 'pk',\n",
    "            'KeyType': 'HASH'\n",
    "        },\n",
    "        {\n",
    "            'AttributeName': 'sk',\n",
    "            'KeyType': 'RANGE'\n",
    "        }\n",
    "    ],\n",
    "    AttributeDefinitions=[\n",
    "        {\n",
    "            \"AttributeName\": \"pk\",\n",
    "            \"AttributeType\": \"S\"\n",
    "        },\n",
    "        {\n",
    "            \"AttributeName\": \"sk\",\n",
    "            \"AttributeType\": \"S\"\n",
    "        }\n",
    "    ],\n",
    "    ProvisionedThroughput = {\n",
    "        'ReadCapacityUnits': 1,\n",
    "        'WriteCapacityUnits': 1\n",
    "    }\n",
    ")"
   ]
  },
  {
   "cell_type": "markdown",
   "id": "8c59f609",
   "metadata": {},
   "source": [
    "Code that reads off values and aggregates them "
   ]
  },
  {
   "cell_type": "code",
   "execution_count": null,
   "id": "2fcdc9e1",
   "metadata": {},
   "outputs": [
    {
     "ename": "SyntaxError",
     "evalue": "f-string: unmatched '[' (3522261276.py, line 30)",
     "output_type": "error",
     "traceback": [
      "  \u001b[36mCell\u001b[39m\u001b[36m \u001b[39m\u001b[32mIn[5]\u001b[39m\u001b[32m, line 30\u001b[39m\n\u001b[31m    \u001b[39m\u001b[31m\"pk\": f\"{first_result[\"pk\"].rsplit('-', 1)[0]}\",\u001b[39m\n                           ^\n\u001b[31mSyntaxError\u001b[39m\u001b[31m:\u001b[39m f-string: unmatched '['\n"
     ]
    }
   ],
   "source": [
    "import boto3\n",
    "import platform\n",
    "import datetime\n",
    "from boto3.dynamodb.conditions import Key\n",
    "\n",
    "READ_PIN = 4\n",
    "dynamodb = boto3.resource('dynamodb')\n",
    "mins_table = dynamodb.Table('dev-blackout-monitor-minutes')\n",
    "hours_table = dynamodb.Table('')\n",
    "\n",
    "results = mins_table.query(\n",
    "    IndexName = \"sk_status-index\",\n",
    "    KeyConditionExpression=Key(\"pk_status\").eq(\"device#alex_rpi#sensor#4#status#new\")\n",
    ")\n",
    "results[\"Items\"]\n",
    "while len(results[\"Items\"]) > 0:\n",
    "    # getting the data about an hour\n",
    "    first_result = results[\"Items\"][0]\n",
    "    by_hour_readings = table.query(KeyConditionExpression=Key(\"pk\").eq(first_result[\"pk\"]))\n",
    "    on_r, off_r, unk_r= 0, 0, 60\n",
    "    for each_reading in by_hour_readings[\"Items\"]:\n",
    "        on_r += 1 if each_reading[\"reading\"] == 1 else 0\n",
    "        off_r += 1 if each_reading[\"reading\"] == 0 else 0\n",
    "    count = on_r + off_r    \n",
    "    unk_r = 60 - count\n",
    "    print(first_result[\"pk\"], on_r, off_r, count, unk_r)\n",
    "    # adding data about an hour to the table\n",
    "    hours_table.put_item(\n",
    "        Item={\n",
    "            \"pk\": f\"{first_result['pk'].rsplit('-', 1)[0]}\",\n",
    "            \"sk\": f\"{first_result['pk'].rsplit('-', 1)[1]}\",\n",
    "            \"count\": count,\n",
    "            \"expected\": 60,\n",
    "            \"off\": off_r,\n",
    "            \"on\": on_r,\n",
    "            \"pk_status\": f\"device#{platform.node()}#sensor{READ_PIN}#status#new\",\n",
    "            \"ts\": f\"{datetime.datetime.now(datetime.timezone.utc).isoformat()}\",\n",
    "            \"unknown\": unk_r\n",
    "\n",
    "        }\n",
    "    )\n",
    "    # making a list of minutes that need to be updated\n",
    "    mnts_to_upd = list()\n",
    "    for reading in results[\"Items\"]:\n",
    "        if reading[\"pk\"] == first_result[\"pk\"]:\n",
    "            mnts_to_upd.append(int(reading[\"sk\"].split(\"#\")))\n",
    "    # changing statuses of the entries that were accounted for\n",
    "    for minute in mnts_to_upd:\n",
    "        update = mins_table.update_item(\n",
    "            Key={\n",
    "                'pk': first_result[\"pk\"],\n",
    "                'sk': f\"time#{minute}\"\n",
    "            },\n",
    "            UpdateExpression=\"set pk_status :s\",\n",
    "            ExpressionAttributeValues={\n",
    "                ':s': f\"device#{platform.node()}#sensor{READ_PIN}#status#done\"\n",
    "            }\n",
    "        )\n",
    "    # querying data again\n",
    "    results = mins_table.query(\n",
    "        IndexName = \"sk_status-index\",\n",
    "        KeyConditionExpression=Key(\"pk_status\").eq(\"device#alex_rpi#sensor#4#status#new\")\n",
    "    )\n",
    "# first_result = results[\"Items\"][0]\n",
    "# by_hour_readings = mins_table.query(KeyConditionExpression=Key(\"pk\").eq(first_result[\"pk\"]))\n",
    "# on_r, off_r, unk_r= 0, 0, 60\n",
    "# for each_reading in by_hour_readings[\"Items\"]:\n",
    "#     on_r += 1 if each_reading[\"reading\"] == 1 else 0\n",
    "#     off_r += 1 if each_reading[\"reading\"] == 0 else 0\n",
    "# count = on_r + off_r    \n",
    "# unk_r = 60 - count\n",
    "# print(first_result[\"pk\"], on_r, off_r, count, unk_r)  \n",
    "# print(first_result[\"pk\"].rsplit('-', 1)[0])\n",
    "# print(first_result[\"pk\"].rsplit('-', 1)[1])\n",
    "# print(results[\"Items\"][0])"
   ]
  }
 ],
 "metadata": {
  "kernelspec": {
   "display_name": ".venv",
   "language": "python",
   "name": "python3"
  },
  "language_info": {
   "codemirror_mode": {
    "name": "ipython",
    "version": 3
   },
   "file_extension": ".py",
   "mimetype": "text/x-python",
   "name": "python",
   "nbconvert_exporter": "python",
   "pygments_lexer": "ipython3",
   "version": "3.11.2"
  }
 },
 "nbformat": 4,
 "nbformat_minor": 5
}
