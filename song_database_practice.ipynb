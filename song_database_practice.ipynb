{
 "cells": [
  {
   "cell_type": "markdown",
   "id": "b6d9c605",
   "metadata": {},
   "source": [
    "Program that prompts user for song data and then adds it to database"
   ]
  },
  {
   "cell_type": "code",
   "execution_count": null,
   "id": "d35d8dd8",
   "metadata": {},
   "outputs": [],
   "source": [
    "import boto3\n",
    "\n",
    "dynamodb = boto3.resource('dynamodb')\n",
    "table = dynamodb.Table('GuitarSongs')\n",
    "\n",
    "inputing = input(\"Would you like to add a new song to the list? y/n \")\n",
    "while inputing != \"n\":\n",
    "    strings = int(input(\"How many strings does the guitar have? \"))\n",
    "    drop = \"t\" if input(\"Is it in drop tuning? y/n \") != \"n\" else \"f\"\n",
    "    notes = [\"A\", \"A#\", \"B\", \"C\", \"C#\", \"D\", \"Eb\", \"E\", \"F\", \"Gb\", \"G\", \"Ab\"]\n",
    "    note = notes[int(input(\"Input number corressponding to the note of the tuning 1-12 \\n \" + str(notes)))-1]\n",
    "    name = input(\"What is the name of the song: \")\n",
    "    album = input(\"Which album is it on: \")\n",
    "    artist = input(\"Who is the artist: \")\n",
    "    table.put_item(\n",
    "        Item = {\n",
    "          \"Tuning\": f\"strings#{strings}#drop#{drop}#{note}\",\n",
    "          \"SongName\": name,\n",
    "          \"Album\": album,\n",
    "          \"Artist\": artist\n",
    "        }\n",
    "    )\n",
    "    inputing = input(\"Would you like to add a new song to the list? y/n \")\n"
   ]
  },
  {
   "cell_type": "markdown",
   "id": "870745bb",
   "metadata": {},
   "source": [
    "Basic Querying of a table (dev-blackout-monitor-minutes)\n",
    "Asking user for a date and an hour, and displaying how long power is present/absent for"
   ]
  },
  {
   "cell_type": "code",
   "execution_count": 6,
   "id": "a6ab9a0d",
   "metadata": {},
   "outputs": [
    {
     "name": "stdout",
     "output_type": "stream",
     "text": [
      "Power present for 0 minutes and absent for 60\n"
     ]
    }
   ],
   "source": [
    "import boto3\n",
    "from boto3.dynamodb.conditions import Key\n",
    "dynamodb = boto3.resource('dynamodb')\n",
    "table = dynamodb.Table('dev-blackout-monitor-minutes')\n",
    "\n",
    "# date = input(\"Enter the date for which you want to see the data (format yyyy-mm-dd)\")\n",
    "# h = input(\"Enter for which hour would you like to see the data\")\n",
    "# hour = h if len(str(h))==2 else (\"0\" + h)  \n",
    "\n",
    "date = \"2025-07-13\"\n",
    "hour = \"16\"\n",
    "\n",
    "\n",
    "response = table.query(\n",
    "    IndexName = \"sk_status-index\",\n",
    "    KeyConditionExpression=Key(\"pk_status\").eq(\"device#alex_rpi#sensor#4#status#done\") & Key(\"ts\").begins_with(f\"{date}T{str(hour)}\")\n",
    ")\n",
    "# print(response)\n",
    "\n",
    "on_c = 0\n",
    "off_c = 0 \n",
    "for each in response['Items']:\n",
    "    if each['reading'] == 0: off_c += 1\n",
    "    else: on_c += 1\n",
    "\n",
    "print(f\"Power present for {on_c} minutes and absent for {off_c}\")"
   ]
  },
  {
   "cell_type": "markdown",
   "id": "cbc849b8",
   "metadata": {},
   "source": [
    "Now with scanning"
   ]
  },
  {
   "cell_type": "code",
   "execution_count": 14,
   "id": "aa0d6043",
   "metadata": {},
   "outputs": [
    {
     "name": "stdout",
     "output_type": "stream",
     "text": [
      "Power present for 60 minutes and absent for 0\n"
     ]
    }
   ],
   "source": [
    "import boto3\n",
    "from boto3.dynamodb.conditions import Key\n",
    "dynamodb = boto3.resource('dynamodb')\n",
    "table = dynamodb.Table('dev-blackout-monitor-minutes')\n",
    "\n",
    "# date = input(\"Enter the date for which you want to see the data (format yyyy-mm-dd)\")\n",
    "# h1 = input(\"Enter from which hour would you like to see the data\")\n",
    "# h2 = input(\"Enter until which hour would you like to see the data\")\n",
    "# hour1 = h1 if len(str(h1))==2 else (\"0\" + h1)\n",
    "# hour2 = h2 if len(str(h2))==2 else (\"0\" + h2)  \n",
    "\n",
    "date = \"2025-06-21\"\n",
    "hour1 = \"19\"\n",
    "hour2 = \"20\"\n",
    "\n",
    "scan_args = {\n",
    "    \"FilterExpression\" : Key(\"ts\").begins_with(f\"{date}T{hour1}\"),\n",
    "    \"ProjectionExpression\": \"#t, #r\",\n",
    "    \"ExpressionAttributeNames\": {\"#t\": \"ts\", \"#r\": \"reading\"}\n",
    "}\n",
    "response = table.scan(**scan_args)\n",
    "# print(response)\n",
    "\n",
    "on_c = 0\n",
    "off_c = 0 \n",
    "for each in response['Items']:\n",
    "    if each['reading'] == 0: off_c += 1\n",
    "    else: on_c += 1\n",
    "\n",
    "print(f\"Power present for {on_c} minutes and absent for {off_c}\")"
   ]
  }
 ],
 "metadata": {
  "kernelspec": {
   "display_name": ".venv",
   "language": "python",
   "name": "python3"
  },
  "language_info": {
   "codemirror_mode": {
    "name": "ipython",
    "version": 3
   },
   "file_extension": ".py",
   "mimetype": "text/x-python",
   "name": "python",
   "nbconvert_exporter": "python",
   "pygments_lexer": "ipython3",
   "version": "3.11.2"
  }
 },
 "nbformat": 4,
 "nbformat_minor": 5
}
