{
 "cells": [
  {
   "cell_type": "markdown",
   "id": "2532ed9b",
   "metadata": {},
   "source": [
    "Uploading readings from Rapsberry Pi to the DataBase"
   ]
  },
  {
   "cell_type": "markdown",
   "id": "99647eed",
   "metadata": {},
   "source": [
    "Creating a table for data to go in to"
   ]
  },
  {
   "cell_type": "code",
   "execution_count": 4,
   "id": "79e339e5",
   "metadata": {},
   "outputs": [],
   "source": [
    "import boto3\n",
    "\n",
    "dynamodb = boto3.resource('dynamodb')\n",
    "\n",
    "table = dynamodb.create_table(\n",
    "    TableName='trial-blackout-monitor-minutes',\n",
    "    KeySchema=[\n",
    "        {\n",
    "            'AttributeName': 'pk',\n",
    "            'KeyType': 'HASH'\n",
    "        },\n",
    "        {\n",
    "            'AttributeName': 'sk',\n",
    "            'KeyType': 'RANGE'\n",
    "        }\n",
    "    ],\n",
    "    AttributeDefinitions=[\n",
    "        {\n",
    "            \"AttributeName\": \"pk\",\n",
    "            \"AttributeType\": \"S\"\n",
    "        },\n",
    "        {\n",
    "            \"AttributeName\": \"sk\",\n",
    "            \"AttributeType\": \"S\"\n",
    "        }\n",
    "    ],\n",
    "    ProvisionedThroughput = {\n",
    "        'ReadCapacityUnits': 1,\n",
    "        'WriteCapacityUnits': 1\n",
    "    }\n",
    ")"
   ]
  },
  {
   "cell_type": "markdown",
   "id": "8b10d40c",
   "metadata": {},
   "source": [
    "Code to add a reading from Raspberry Pi to the new table (trial-blackout-monitor-minutes)"
   ]
  },
  {
   "cell_type": "code",
   "execution_count": 31,
   "id": "65f88df1",
   "metadata": {},
   "outputs": [
    {
     "data": {
      "text/plain": [
       "{'ResponseMetadata': {'RequestId': 'ITH8KS8PVLROEHSVTUE6ABRCMFVV4KQNSO5AEMVJF66Q9ASUAAJG',\n",
       "  'HTTPStatusCode': 200,\n",
       "  'HTTPHeaders': {'server': 'Server',\n",
       "   'date': 'Thu, 14 Aug 2025 12:04:46 GMT',\n",
       "   'content-type': 'application/x-amz-json-1.0',\n",
       "   'content-length': '2',\n",
       "   'connection': 'keep-alive',\n",
       "   'x-amzn-requestid': 'ITH8KS8PVLROEHSVTUE6ABRCMFVV4KQNSO5AEMVJF66Q9ASUAAJG',\n",
       "   'x-amz-crc32': '2745614147'},\n",
       "  'RetryAttempts': 0}}"
      ]
     },
     "execution_count": 31,
     "metadata": {},
     "output_type": "execute_result"
    }
   ],
   "source": [
    "import RPi.GPIO as GPIO\n",
    "import boto3\n",
    "import datetime\n",
    "import platform\n",
    "\n",
    "READ_PIN=4\n",
    "GPIO.setmode(GPIO.BCM)\n",
    "GPIO.setup(0, GPIO.OUT)\n",
    "GPIO.output(0,GPIO.HIGH)\n",
    "GPIO.setup(READ_PIN,GPIO.IN, pull_up_down = GPIO.PUD_DOWN)\n",
    "input_io = GPIO.input(4)\n",
    "\n",
    "dynamodb = boto3.resource('dynamodb')\n",
    "table = dynamodb.Table('trial-blackout-monitor-minutes')\n",
    "\n",
    "\n",
    "\n",
    "table.put_item(\n",
    "    Item={\n",
    "        \"pk\": f\"device#{platform.node()}#sensor{READ_PIN}#date#{datetime.datetime.now(datetime.timezone.utc).strftime('%Y-%m-%d-%H')}\",\n",
    "        \"sk\": f\"time#{datetime.datetime.now(datetime.timezone.utc).strftime('%M')}\",\n",
    "        \"pk_status\": f\"device#{platform.node()}#sensor{READ_PIN}#status#done\",\n",
    "        \"reading\": input_io,\n",
    "        \"ts\": f\"{datetime.datetime.now(datetime.timezone.utc).isoformat()}\"\n",
    "\n",
    "    }\n",
    ")\n",
    "\n"
   ]
  }
 ],
 "metadata": {
  "kernelspec": {
   "display_name": ".venv",
   "language": "python",
   "name": "python3"
  },
  "language_info": {
   "codemirror_mode": {
    "name": "ipython",
    "version": 3
   },
   "file_extension": ".py",
   "mimetype": "text/x-python",
   "name": "python",
   "nbconvert_exporter": "python",
   "pygments_lexer": "ipython3",
   "version": "3.11.2"
  }
 },
 "nbformat": 4,
 "nbformat_minor": 5
}
