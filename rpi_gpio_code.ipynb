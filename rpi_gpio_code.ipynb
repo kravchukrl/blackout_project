{
 "cells": [
  {
   "cell_type": "markdown",
   "id": "5c1d0ba4",
   "metadata": {},
   "source": [
    "First Iteration of the Raspbery Pi Code, used to read off if power is present on the USB connector, thorugh a relay"
   ]
  },
  {
   "cell_type": "code",
   "execution_count": 1,
   "id": "d6c339a0",
   "metadata": {},
   "outputs": [
    {
     "name": "stdout",
     "output_type": "stream",
     "text": [
      "Power is present\n",
      "Power is present\n",
      "Power is present\n",
      "Power is present\n",
      "Power is present\n",
      "Power is present\n",
      "Power is present\n",
      "Power is present\n",
      "Power is present\n",
      "Power is present\n",
      "Power is present\n",
      "Power is present\n",
      "Power is absent\n",
      "Power is absent\n",
      "Power is absent\n",
      "Power is absent\n",
      "Power is absent\n",
      "Power is absent\n",
      "Power is absent\n",
      "Power is present\n",
      "Power is present\n",
      "Power is present\n",
      "Power is absent\n",
      "Power is absent\n",
      "Power is present\n",
      "Power is present\n",
      "Power is present\n",
      "Power is present\n",
      "Power is present\n",
      "Power is present\n",
      "Power is present\n",
      "Power is present\n",
      "Power is present\n",
      "Power is present\n",
      "Power is present\n",
      "Power is present\n",
      "Power is present\n",
      "Power is present\n",
      "Power is present\n",
      "Power is present\n",
      "Power is present\n",
      "Power is present\n",
      "Power is present\n",
      "Power is present\n",
      "Power is present\n",
      "Power is present\n",
      "Power is present\n",
      "Power is present\n",
      "Power is present\n",
      "Power is present\n",
      "Power is present\n",
      "Power is present\n",
      "Power is present\n"
     ]
    },
    {
     "ename": "KeyboardInterrupt",
     "evalue": "",
     "output_type": "error",
     "traceback": [
      "\u001b[31m---------------------------------------------------------------------------\u001b[39m",
      "\u001b[31mKeyboardInterrupt\u001b[39m                         Traceback (most recent call last)",
      "\u001b[36mCell\u001b[39m\u001b[36m \u001b[39m\u001b[32mIn[1]\u001b[39m\u001b[32m, line 12\u001b[39m\n\u001b[32m     10\u001b[39m \u001b[38;5;28;01mif\u001b[39;00m input_io == \u001b[32m1\u001b[39m:\n\u001b[32m     11\u001b[39m     \u001b[38;5;28mprint\u001b[39m(\u001b[33m\"\u001b[39m\u001b[33mPower is present\u001b[39m\u001b[33m\"\u001b[39m)\n\u001b[32m---> \u001b[39m\u001b[32m12\u001b[39m     time.sleep(\u001b[32m1\u001b[39m)\n\u001b[32m     13\u001b[39m \u001b[38;5;28;01melse\u001b[39;00m:\n\u001b[32m     14\u001b[39m     \u001b[38;5;28mprint\u001b[39m(\u001b[33m\"\u001b[39m\u001b[33mPower is absent\u001b[39m\u001b[33m\"\u001b[39m)\n",
      "\u001b[31mKeyboardInterrupt\u001b[39m: "
     ]
    }
   ],
   "source": [
    "import RPi.GPIO as GPIO\n",
    "import time\n",
    "\n",
    "GPIO.setmode(GPIO.BCM)\n",
    "GPIO.setup(0, GPIO.OUT)\n",
    "GPIO.output(0,GPIO.HIGH)\n",
    "GPIO.setup(4,GPIO.IN, pull_up_down = GPIO.PUD_DOWN)\n",
    "while True:\n",
    "    input_io = GPIO.input(4)\n",
    "    if input_io == 1:\n",
    "        print(\"Power is present\")\n",
    "        time.sleep(1)\n",
    "    else:\n",
    "        print(\"Power is absent\")\n",
    "        time.sleep(1)"
   ]
  }
 ],
 "metadata": {
  "kernelspec": {
   "display_name": ".venv",
   "language": "python",
   "name": "python3"
  },
  "language_info": {
   "codemirror_mode": {
    "name": "ipython",
    "version": 3
   },
   "file_extension": ".py",
   "mimetype": "text/x-python",
   "name": "python",
   "nbconvert_exporter": "python",
   "pygments_lexer": "ipython3",
   "version": "3.11.2"
  }
 },
 "nbformat": 4,
 "nbformat_minor": 5
}
